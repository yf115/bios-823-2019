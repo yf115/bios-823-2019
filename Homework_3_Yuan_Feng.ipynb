{
 "cells": [
  {
   "cell_type": "markdown",
   "metadata": {},
   "source": [
    "## Homework 3\n",
    "\n",
    "Yuan Feng"
   ]
  },
  {
   "cell_type": "code",
   "execution_count": null,
   "metadata": {},
   "outputs": [],
   "source": [
    "import pandas as pd\n",
    "import seaborn as sns\n",
    "import matplotlib.pyplot as plt\n",
    "import numpy as np\n",
    "%matplotlib inline\n",
    "inc = pd.read_csv(\"malaria_inc.csv\")\n",
    "dth = pd.read_csv(\"malaria_deaths.csv\")\n",
    "age = pd.read_csv(\"malaria_deaths_age.csv\")"
   ]
  },
  {
   "cell_type": "code",
   "execution_count": 10,
   "metadata": {},
   "outputs": [],
   "source": [
    "#!pip install pyecharts==0.5.10\n",
    "#!pip install echarts-countries-pypkg\n",
    "#!pip3 install pyecharts-snapshot"
   ]
  },
  {
   "cell_type": "markdown",
   "metadata": {},
   "source": [
    "## Plot 1  Avg. Malaria Deaths per 100,000 people (1990-2016)"
   ]
  },
  {
   "cell_type": "code",
   "execution_count": 175,
   "metadata": {},
   "outputs": [],
   "source": [
    "from pyecharts import Map\n",
    "dth2 = dth.set_axis(['Entity', 'Code', 'Year', 'Deaths'], axis=1, inplace=False)\n",
    "dth2= dth2.groupby(by='Code').agg({'Entity': 'max',\n",
    "                              'Deaths': 'sum'})\n",
    "attr = dth2[\"Entity\"]\n",
    "dth2[\"Deaths\"] = dth2[\"Deaths\"]/27\n",
    "value= dth2[\"Deaths\"]\n",
    "map0 = Map(\"Avg. Malaria Deaths per 100,000 people (1990-2016)\", width=970, height=400)\n",
    "map0.add(\"Number\", attr, value, maptype=\"world\",  is_map_symbol_show = False,is_visualmap=True, visual_text_color='#000')\n",
    "map0.render(path=\"plot2.html\")"
   ]
  },
  {
   "cell_type": "code",
   "execution_count": 179,
   "metadata": {},
   "outputs": [
    {
     "data": {
      "text/plain": [
       "array(['Under 5', '70 or older', '5-14', '15-49', '50-69'], dtype=object)"
      ]
     },
     "execution_count": 179,
     "metadata": {},
     "output_type": "execute_result"
    }
   ],
   "source": [
    "age[\"age_group\"].unique()"
   ]
  },
  {
   "cell_type": "code",
   "execution_count": 186,
   "metadata": {},
   "outputs": [
    {
     "data": {
      "text/html": [
       "<div>\n",
       "<style scoped>\n",
       "    .dataframe tbody tr th:only-of-type {\n",
       "        vertical-align: middle;\n",
       "    }\n",
       "\n",
       "    .dataframe tbody tr th {\n",
       "        vertical-align: top;\n",
       "    }\n",
       "\n",
       "    .dataframe thead th {\n",
       "        text-align: right;\n",
       "    }\n",
       "</style>\n",
       "<table border=\"1\" class=\"dataframe\">\n",
       "  <thead>\n",
       "    <tr style=\"text-align: right;\">\n",
       "      <th></th>\n",
       "      <th>deaths</th>\n",
       "    </tr>\n",
       "    <tr>\n",
       "      <th>age_group</th>\n",
       "      <th></th>\n",
       "    </tr>\n",
       "  </thead>\n",
       "  <tbody>\n",
       "    <tr>\n",
       "      <th>15-49</th>\n",
       "      <td>8.462569e+06</td>\n",
       "    </tr>\n",
       "    <tr>\n",
       "      <th>5-14</th>\n",
       "      <td>1.026816e+07</td>\n",
       "    </tr>\n",
       "    <tr>\n",
       "      <th>50-69</th>\n",
       "      <td>4.840002e+06</td>\n",
       "    </tr>\n",
       "    <tr>\n",
       "      <th>70 or older</th>\n",
       "      <td>3.003205e+06</td>\n",
       "    </tr>\n",
       "    <tr>\n",
       "      <th>Under 5</th>\n",
       "      <td>8.726745e+07</td>\n",
       "    </tr>\n",
       "  </tbody>\n",
       "</table>\n",
       "</div>"
      ],
      "text/plain": [
       "                   deaths\n",
       "age_group                \n",
       "15-49        8.462569e+06\n",
       "5-14         1.026816e+07\n",
       "50-69        4.840002e+06\n",
       "70 or older  3.003205e+06\n",
       "Under 5      8.726745e+07"
      ]
     },
     "execution_count": 186,
     "metadata": {},
     "output_type": "execute_result"
    }
   ],
   "source": [
    "age = age.astype({\"age_group\":'category'})age2= age.groupby(by='age_group').agg({'deaths': 'sum'})\n"
   ]
  },
  {
   "cell_type": "code",
   "execution_count": 192,
   "metadata": {},
   "outputs": [
    {
     "data": {
      "text/html": [
       "<div>\n",
       "<style scoped>\n",
       "    .dataframe tbody tr th:only-of-type {\n",
       "        vertical-align: middle;\n",
       "    }\n",
       "\n",
       "    .dataframe tbody tr th {\n",
       "        vertical-align: top;\n",
       "    }\n",
       "\n",
       "    .dataframe thead th {\n",
       "        text-align: right;\n",
       "    }\n",
       "</style>\n",
       "<table border=\"1\" class=\"dataframe\">\n",
       "  <thead>\n",
       "    <tr style=\"text-align: right;\">\n",
       "      <th></th>\n",
       "      <th>deaths</th>\n",
       "      <th>Groups</th>\n",
       "    </tr>\n",
       "    <tr>\n",
       "      <th>age_group</th>\n",
       "      <th></th>\n",
       "      <th></th>\n",
       "    </tr>\n",
       "  </thead>\n",
       "  <tbody>\n",
       "    <tr>\n",
       "      <th>15-49</th>\n",
       "      <td>8.462569e+06</td>\n",
       "      <td>15-49</td>\n",
       "    </tr>\n",
       "    <tr>\n",
       "      <th>5-14</th>\n",
       "      <td>1.026816e+07</td>\n",
       "      <td>5-14</td>\n",
       "    </tr>\n",
       "    <tr>\n",
       "      <th>50-69</th>\n",
       "      <td>4.840002e+06</td>\n",
       "      <td>50-69</td>\n",
       "    </tr>\n",
       "    <tr>\n",
       "      <th>70 or older</th>\n",
       "      <td>3.003205e+06</td>\n",
       "      <td>70+</td>\n",
       "    </tr>\n",
       "    <tr>\n",
       "      <th>Under 5</th>\n",
       "      <td>8.726745e+07</td>\n",
       "      <td>under 5</td>\n",
       "    </tr>\n",
       "  </tbody>\n",
       "</table>\n",
       "</div>"
      ],
      "text/plain": [
       "                   deaths   Groups\n",
       "age_group                         \n",
       "15-49        8.462569e+06    15-49\n",
       "5-14         1.026816e+07     5-14\n",
       "50-69        4.840002e+06    50-69\n",
       "70 or older  3.003205e+06      70+\n",
       "Under 5      8.726745e+07  under 5"
      ]
     },
     "execution_count": 192,
     "metadata": {},
     "output_type": "execute_result"
    }
   ],
   "source": [
    "age2[\"Groups\"] = [\"15-49\", \"5-14\",\"50-69\",\"70+\",\"under 5\"]\n",
    "age2"
   ]
  },
  {
   "cell_type": "markdown",
   "metadata": {},
   "source": [
    "##  Plot 2 Number of Worldwide Malaria Deaths categorized by Age (1990-2016)"
   ]
  },
  {
   "cell_type": "code",
   "execution_count": 227,
   "metadata": {},
   "outputs": [
    {
     "data": {
      "image/png": "[encoded data removed]",
      "text/plain": [
       "<Figure size 1440x720 with 2 Axes>"
      ]
     },
     "metadata": {
      "needs_background": "light"
     },
     "output_type": "display_data"
    }
   ],
   "source": [
    "import matplotlib.ticker as ticker\n",
    "import matplotlib.cm as cm\n",
    "import matplotlib as mpl\n",
    "from matplotlib.gridspec import GridSpec\n",
    "sns.set(style=\"whitegrid\")\n",
    "import matplotlib.pyplot as plt\n",
    "%matplotlib inline\n",
    "\n",
    "source_labels = age2[\"Groups\"]\n",
    "source_counts = age2[\"deaths\"]\n",
    "\n",
    "plt.figure(1, figsize=(20,10))\n",
    "the_grid = GridSpec(2, 2)\n",
    "\n",
    "\n",
    "cmap = plt.get_cmap('Spectral')\n",
    "colors = [cmap(i) for i in np.linspace(0, 1, 8)]\n",
    "plt.subplot(the_grid[0, 0], aspect=1, title='Percentage of Deaths')\n",
    "\n",
    "first = plt.pie(source_counts, labels=source_labels, autopct='%1.1f%%', shadow=True, colors=colors)\n",
    "\n",
    "\n",
    "\n",
    "plt.subplot(the_grid[0, 1], title='Number of Deaths')\n",
    "\n",
    "sns.barplot(x='deaths',y='Groups', data=age2)\n",
    "\n",
    "\n",
    "plt.suptitle('Number of Worldwide Malaria Deaths categorized by Age (1990-2016)', fontsize=16)\n",
    "\n",
    "\n",
    "plt.show()\n"
   ]
  },
  {
   "cell_type": "markdown",
   "metadata": {},
   "source": [
    "## Plot 3 Number of Top 10 Countries with most Malaria Deaths (1990-2016)"
   ]
  },
  {
   "cell_type": "code",
   "execution_count": 249,
   "metadata": {},
   "outputs": [
    {
     "data": {
      "text/html": [
       "<div>\n",
       "<style scoped>\n",
       "    .dataframe tbody tr th:only-of-type {\n",
       "        vertical-align: middle;\n",
       "    }\n",
       "\n",
       "    .dataframe tbody tr th {\n",
       "        vertical-align: top;\n",
       "    }\n",
       "\n",
       "    .dataframe thead th {\n",
       "        text-align: right;\n",
       "    }\n",
       "</style>\n",
       "<table border=\"1\" class=\"dataframe\">\n",
       "  <thead>\n",
       "    <tr style=\"text-align: right;\">\n",
       "      <th></th>\n",
       "      <th>entity</th>\n",
       "      <th>deaths</th>\n",
       "    </tr>\n",
       "    <tr>\n",
       "      <th>code</th>\n",
       "      <th></th>\n",
       "      <th></th>\n",
       "    </tr>\n",
       "  </thead>\n",
       "  <tbody>\n",
       "    <tr>\n",
       "      <th>AFG</th>\n",
       "      <td>Afghanistan</td>\n",
       "      <td>39876.472958</td>\n",
       "    </tr>\n",
       "    <tr>\n",
       "      <th>AGO</th>\n",
       "      <td>Angola</td>\n",
       "      <td>194739.166863</td>\n",
       "    </tr>\n",
       "    <tr>\n",
       "      <th>ALB</th>\n",
       "      <td>Albania</td>\n",
       "      <td>0.000000</td>\n",
       "    </tr>\n",
       "    <tr>\n",
       "      <th>AND</th>\n",
       "      <td>Andorra</td>\n",
       "      <td>0.000000</td>\n",
       "    </tr>\n",
       "    <tr>\n",
       "      <th>ARE</th>\n",
       "      <td>United Arab Emirates</td>\n",
       "      <td>12.852339</td>\n",
       "    </tr>\n",
       "    <tr>\n",
       "      <th>...</th>\n",
       "      <td>...</td>\n",
       "      <td>...</td>\n",
       "    </tr>\n",
       "    <tr>\n",
       "      <th>WSM</th>\n",
       "      <td>Samoa</td>\n",
       "      <td>0.000000</td>\n",
       "    </tr>\n",
       "    <tr>\n",
       "      <th>YEM</th>\n",
       "      <td>Yemen</td>\n",
       "      <td>157.859831</td>\n",
       "    </tr>\n",
       "    <tr>\n",
       "      <th>ZAF</th>\n",
       "      <td>South Africa</td>\n",
       "      <td>5846.502856</td>\n",
       "    </tr>\n",
       "    <tr>\n",
       "      <th>ZMB</th>\n",
       "      <td>Zambia</td>\n",
       "      <td>190106.922084</td>\n",
       "    </tr>\n",
       "    <tr>\n",
       "      <th>ZWE</th>\n",
       "      <td>Zimbabwe</td>\n",
       "      <td>25618.739025</td>\n",
       "    </tr>\n",
       "  </tbody>\n",
       "</table>\n",
       "<p>196 rows × 2 columns</p>\n",
       "</div>"
      ],
      "text/plain": [
       "                    entity         deaths\n",
       "code                                     \n",
       "AFG            Afghanistan   39876.472958\n",
       "AGO                 Angola  194739.166863\n",
       "ALB                Albania       0.000000\n",
       "AND                Andorra       0.000000\n",
       "ARE   United Arab Emirates      12.852339\n",
       "...                    ...            ...\n",
       "WSM                  Samoa       0.000000\n",
       "YEM                  Yemen     157.859831\n",
       "ZAF           South Africa    5846.502856\n",
       "ZMB                 Zambia  190106.922084\n",
       "ZWE               Zimbabwe   25618.739025\n",
       "\n",
       "[196 rows x 2 columns]"
      ]
     },
     "execution_count": 249,
     "metadata": {},
     "output_type": "execute_result"
    }
   ],
   "source": [
    "#age3 = age.set_axis(['Entity', 'Code', 'Year', 'Deaths'], axis=1, inplace=False)\n",
    "age3= age.groupby(by='code').agg({'entity': 'max',\n",
    "                              'deaths': 'sum'})\n",
    "age3"
   ]
  },
  {
   "cell_type": "code",
   "execution_count": 253,
   "metadata": {},
   "outputs": [
    {
     "data": {
      "text/html": [
       "<div>\n",
       "<style scoped>\n",
       "    .dataframe tbody tr th:only-of-type {\n",
       "        vertical-align: middle;\n",
       "    }\n",
       "\n",
       "    .dataframe tbody tr th {\n",
       "        vertical-align: top;\n",
       "    }\n",
       "\n",
       "    .dataframe thead th {\n",
       "        text-align: right;\n",
       "    }\n",
       "</style>\n",
       "<table border=\"1\" class=\"dataframe\">\n",
       "  <thead>\n",
       "    <tr style=\"text-align: right;\">\n",
       "      <th></th>\n",
       "      <th>entity</th>\n",
       "      <th>deaths</th>\n",
       "    </tr>\n",
       "    <tr>\n",
       "      <th>code</th>\n",
       "      <th></th>\n",
       "      <th></th>\n",
       "    </tr>\n",
       "  </thead>\n",
       "  <tbody>\n",
       "    <tr>\n",
       "      <th>OWID_WRL</th>\n",
       "      <td>World</td>\n",
       "      <td>2.329629e+07</td>\n",
       "    </tr>\n",
       "    <tr>\n",
       "      <th>NGA</th>\n",
       "      <td>Nigeria</td>\n",
       "      <td>6.781688e+06</td>\n",
       "    </tr>\n",
       "    <tr>\n",
       "      <th>COD</th>\n",
       "      <td>Democratic Republic of Congo</td>\n",
       "      <td>2.626521e+06</td>\n",
       "    </tr>\n",
       "    <tr>\n",
       "      <th>IND</th>\n",
       "      <td>India</td>\n",
       "      <td>1.635914e+06</td>\n",
       "    </tr>\n",
       "    <tr>\n",
       "      <th>UGA</th>\n",
       "      <td>Uganda</td>\n",
       "      <td>1.385068e+06</td>\n",
       "    </tr>\n",
       "    <tr>\n",
       "      <th>BFA</th>\n",
       "      <td>Burkina Faso</td>\n",
       "      <td>8.715024e+05</td>\n",
       "    </tr>\n",
       "    <tr>\n",
       "      <th>TZA</th>\n",
       "      <td>Tanzania</td>\n",
       "      <td>8.404095e+05</td>\n",
       "    </tr>\n",
       "    <tr>\n",
       "      <th>MOZ</th>\n",
       "      <td>Mozambique</td>\n",
       "      <td>8.156913e+05</td>\n",
       "    </tr>\n",
       "    <tr>\n",
       "      <th>CIV</th>\n",
       "      <td>Cote d'Ivoire</td>\n",
       "      <td>7.435324e+05</td>\n",
       "    </tr>\n",
       "    <tr>\n",
       "      <th>NER</th>\n",
       "      <td>Niger</td>\n",
       "      <td>7.034018e+05</td>\n",
       "    </tr>\n",
       "    <tr>\n",
       "      <th>CMR</th>\n",
       "      <td>Cameroon</td>\n",
       "      <td>6.737356e+05</td>\n",
       "    </tr>\n",
       "  </tbody>\n",
       "</table>\n",
       "</div>"
      ],
      "text/plain": [
       "                                entity        deaths\n",
       "code                                                \n",
       "OWID_WRL                         World  2.329629e+07\n",
       "NGA                            Nigeria  6.781688e+06\n",
       "COD       Democratic Republic of Congo  2.626521e+06\n",
       "IND                              India  1.635914e+06\n",
       "UGA                             Uganda  1.385068e+06\n",
       "BFA                       Burkina Faso  8.715024e+05\n",
       "TZA                           Tanzania  8.404095e+05\n",
       "MOZ                         Mozambique  8.156913e+05\n",
       "CIV                      Cote d'Ivoire  7.435324e+05\n",
       "NER                              Niger  7.034018e+05\n",
       "CMR                           Cameroon  6.737356e+05"
      ]
     },
     "execution_count": 253,
     "metadata": {},
     "output_type": "execute_result"
    }
   ],
   "source": [
    "age3 = age3.sort_values(by=['deaths'], ascending=False)\n",
    "age3.head(11)"
   ]
  },
  {
   "cell_type": "code",
   "execution_count": 251,
   "metadata": {},
   "outputs": [
    {
     "data": {
      "text/html": [
       "<div>\n",
       "<style scoped>\n",
       "    .dataframe tbody tr th:only-of-type {\n",
       "        vertical-align: middle;\n",
       "    }\n",
       "\n",
       "    .dataframe tbody tr th {\n",
       "        vertical-align: top;\n",
       "    }\n",
       "\n",
       "    .dataframe thead th {\n",
       "        text-align: right;\n",
       "    }\n",
       "</style>\n",
       "<table border=\"1\" class=\"dataframe\">\n",
       "  <thead>\n",
       "    <tr style=\"text-align: right;\">\n",
       "      <th></th>\n",
       "      <th>entity</th>\n",
       "      <th>deaths</th>\n",
       "    </tr>\n",
       "    <tr>\n",
       "      <th>code</th>\n",
       "      <th></th>\n",
       "      <th></th>\n",
       "    </tr>\n",
       "  </thead>\n",
       "  <tbody>\n",
       "    <tr>\n",
       "      <th>NGA</th>\n",
       "      <td>Nigeria</td>\n",
       "      <td>6.781688e+06</td>\n",
       "    </tr>\n",
       "    <tr>\n",
       "      <th>COD</th>\n",
       "      <td>Democratic Republic of Congo</td>\n",
       "      <td>2.626521e+06</td>\n",
       "    </tr>\n",
       "    <tr>\n",
       "      <th>IND</th>\n",
       "      <td>India</td>\n",
       "      <td>1.635914e+06</td>\n",
       "    </tr>\n",
       "    <tr>\n",
       "      <th>UGA</th>\n",
       "      <td>Uganda</td>\n",
       "      <td>1.385068e+06</td>\n",
       "    </tr>\n",
       "    <tr>\n",
       "      <th>BFA</th>\n",
       "      <td>Burkina Faso</td>\n",
       "      <td>8.715024e+05</td>\n",
       "    </tr>\n",
       "    <tr>\n",
       "      <th>TZA</th>\n",
       "      <td>Tanzania</td>\n",
       "      <td>8.404095e+05</td>\n",
       "    </tr>\n",
       "    <tr>\n",
       "      <th>MOZ</th>\n",
       "      <td>Mozambique</td>\n",
       "      <td>8.156913e+05</td>\n",
       "    </tr>\n",
       "    <tr>\n",
       "      <th>CIV</th>\n",
       "      <td>Cote d'Ivoire</td>\n",
       "      <td>7.435324e+05</td>\n",
       "    </tr>\n",
       "    <tr>\n",
       "      <th>NER</th>\n",
       "      <td>Niger</td>\n",
       "      <td>7.034018e+05</td>\n",
       "    </tr>\n",
       "    <tr>\n",
       "      <th>CMR</th>\n",
       "      <td>Cameroon</td>\n",
       "      <td>6.737356e+05</td>\n",
       "    </tr>\n",
       "    <tr>\n",
       "      <th>MLI</th>\n",
       "      <td>Mali</td>\n",
       "      <td>6.198953e+05</td>\n",
       "    </tr>\n",
       "  </tbody>\n",
       "</table>\n",
       "</div>"
      ],
      "text/plain": [
       "                            entity        deaths\n",
       "code                                            \n",
       "NGA                        Nigeria  6.781688e+06\n",
       "COD   Democratic Republic of Congo  2.626521e+06\n",
       "IND                          India  1.635914e+06\n",
       "UGA                         Uganda  1.385068e+06\n",
       "BFA                   Burkina Faso  8.715024e+05\n",
       "TZA                       Tanzania  8.404095e+05\n",
       "MOZ                     Mozambique  8.156913e+05\n",
       "CIV                  Cote d'Ivoire  7.435324e+05\n",
       "NER                          Niger  7.034018e+05\n",
       "CMR                       Cameroon  6.737356e+05\n",
       "MLI                           Mali  6.198953e+05"
      ]
     },
     "execution_count": 251,
     "metadata": {},
     "output_type": "execute_result"
    }
   ],
   "source": [
    "age4 = age3[1:12]\n",
    "age4"
   ]
  },
  {
   "cell_type": "code",
   "execution_count": 255,
   "metadata": {},
   "outputs": [
    {
     "data": {
      "image/png": "[encoded data removed]",
      "text/plain": [
       "<Figure size 1440x720 with 2 Axes>"
      ]
     },
     "metadata": {
      "needs_background": "light"
     },
     "output_type": "display_data"
    }
   ],
   "source": [
    "import matplotlib.ticker as ticker\n",
    "import matplotlib.cm as cm\n",
    "import matplotlib as mpl\n",
    "from matplotlib.gridspec import GridSpec\n",
    "sns.set(style=\"whitegrid\")\n",
    "import matplotlib.pyplot as plt\n",
    "%matplotlib inline\n",
    "\n",
    "source_labels = age4[\"entity\"]\n",
    "source_counts = age4[\"deaths\"]\n",
    "\n",
    "plt.figure(1, figsize=(20,10))\n",
    "the_grid = GridSpec(2, 2)\n",
    "\n",
    "\n",
    "cmap = plt.get_cmap('Spectral')\n",
    "colors = [cmap(i) for i in np.linspace(0, 1, 8)]\n",
    "plt.subplot(the_grid[0, 0], aspect=1, title='Percentage of Deaths')\n",
    "\n",
    "first2 = plt.pie(source_counts, labels=source_labels, autopct='%1.1f%%', shadow=True, colors=colors)\n",
    "\n",
    "\n",
    "\n",
    "plt.subplot(the_grid[0, 1], title='Number of Deaths')\n",
    "\n",
    "sns.barplot(x='deaths',y='entity', data=age4)\n",
    "\n",
    "\n",
    "plt.suptitle('Number of Top 10 Countries with most Malaria Deaths (1990-2016)', fontsize=16)\n",
    "\n",
    "\n",
    "plt.show()"
   ]
  },
  {
   "cell_type": "code",
   "execution_count": null,
   "metadata": {},
   "outputs": [],
   "source": []
  }
 ],
 "metadata": {
  "kernelspec": {
   "display_name": "Python 3",
   "language": "python",
   "name": "python3"
  },
  "language_info": {
   "codemirror_mode": {
    "name": "ipython",
    "version": 3
   },
   "file_extension": ".py",
   "mimetype": "text/x-python",
   "name": "python",
   "nbconvert_exporter": "python",
   "pygments_lexer": "ipython3",
   "version": "3.7.8"
  }
 },
 "nbformat": 4,
 "nbformat_minor": 4
}
