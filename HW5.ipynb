{
  "nbformat": 4,
  "nbformat_minor": 0,
  "metadata": {
    "colab": {
      "name": "HW5.ipynb",
      "provenance": [],
      "collapsed_sections": []
    },
    "kernelspec": {
      "name": "python3",
      "display_name": "Python 3"
    }
  },
  "cells": [
    {
      "cell_type": "code",
      "metadata": {
        "id": "DYuJ3AhHP2hI"
      },
      "source": [
        "import requests\n",
        "#loading package and connect to database\n",
        "one = requests.get('https://swapi.dev/api/people/1')"
      ],
      "execution_count": 10,
      "outputs": []
    },
    {
      "cell_type": "code",
      "metadata": {
        "id": "ZC5CR046kd2D",
        "outputId": "2e846571-a8c0-407b-888a-efea57b73b94",
        "colab": {
          "base_uri": "https://localhost:8080/",
          "height": 374
        }
      },
      "source": [
        "#sample pitput\n",
        "char = one.json()\n",
        "char\n"
      ],
      "execution_count": 11,
      "outputs": [
        {
          "output_type": "execute_result",
          "data": {
            "text/plain": [
              "{'birth_year': '19BBY',\n",
              " 'created': '2014-12-09T13:50:51.644000Z',\n",
              " 'edited': '2014-12-20T21:17:56.891000Z',\n",
              " 'eye_color': 'blue',\n",
              " 'films': ['http://swapi.dev/api/films/1/',\n",
              "  'http://swapi.dev/api/films/2/',\n",
              "  'http://swapi.dev/api/films/3/',\n",
              "  'http://swapi.dev/api/films/6/'],\n",
              " 'gender': 'male',\n",
              " 'hair_color': 'blond',\n",
              " 'height': '172',\n",
              " 'homeworld': 'http://swapi.dev/api/planets/1/',\n",
              " 'mass': '77',\n",
              " 'name': 'Luke Skywalker',\n",
              " 'skin_color': 'fair',\n",
              " 'species': [],\n",
              " 'starships': ['http://swapi.dev/api/starships/12/',\n",
              "  'http://swapi.dev/api/starships/22/'],\n",
              " 'url': 'http://swapi.dev/api/people/1/',\n",
              " 'vehicles': ['http://swapi.dev/api/vehicles/14/',\n",
              "  'http://swapi.dev/api/vehicles/30/']}"
            ]
          },
          "metadata": {
            "tags": []
          },
          "execution_count": 11
        }
      ]
    },
    {
      "cell_type": "code",
      "metadata": {
        "id": "z9AtHtmwkxIJ"
      },
      "source": [
        "#getting information about every person\n",
        "instance  = requests.get(\"https://swapi.dev/api/people/\")\n",
        "all = list()\n",
        "while instance.json()[\"next\"]:\n",
        "    all += instance.json()['results']\n",
        "    instance = requests.get(instance.json()['next'])\n",
        "\n",
        "all += instance.json()['results']"
      ],
      "execution_count": 72,
      "outputs": []
    },
    {
      "cell_type": "code",
      "metadata": {
        "id": "6dyYXyBRnbNM",
        "outputId": "da4d451e-27c2-4011-c0eb-01027c5d1d3d",
        "colab": {
          "base_uri": "https://localhost:8080/",
          "height": 309
        }
      },
      "source": [
        "import pandas as pd\n",
        "#transform json response into dataframe\n",
        "df = pd.json_normalize(all)\n",
        "df.head()"
      ],
      "execution_count": 73,
      "outputs": [
        {
          "output_type": "execute_result",
          "data": {
            "text/html": [
              "<div>\n",
              "<style scoped>\n",
              "    .dataframe tbody tr th:only-of-type {\n",
              "        vertical-align: middle;\n",
              "    }\n",
              "\n",
              "    .dataframe tbody tr th {\n",
              "        vertical-align: top;\n",
              "    }\n",
              "\n",
              "    .dataframe thead th {\n",
              "        text-align: right;\n",
              "    }\n",
              "</style>\n",
              "<table border=\"1\" class=\"dataframe\">\n",
              "  <thead>\n",
              "    <tr style=\"text-align: right;\">\n",
              "      <th></th>\n",
              "      <th>name</th>\n",
              "      <th>height</th>\n",
              "      <th>mass</th>\n",
              "      <th>hair_color</th>\n",
              "      <th>skin_color</th>\n",
              "      <th>eye_color</th>\n",
              "      <th>birth_year</th>\n",
              "      <th>gender</th>\n",
              "      <th>homeworld</th>\n",
              "      <th>films</th>\n",
              "      <th>species</th>\n",
              "      <th>vehicles</th>\n",
              "      <th>starships</th>\n",
              "      <th>created</th>\n",
              "      <th>edited</th>\n",
              "      <th>url</th>\n",
              "    </tr>\n",
              "  </thead>\n",
              "  <tbody>\n",
              "    <tr>\n",
              "      <th>0</th>\n",
              "      <td>Luke Skywalker</td>\n",
              "      <td>172</td>\n",
              "      <td>77</td>\n",
              "      <td>blond</td>\n",
              "      <td>fair</td>\n",
              "      <td>blue</td>\n",
              "      <td>19BBY</td>\n",
              "      <td>male</td>\n",
              "      <td>http://swapi.dev/api/planets/1/</td>\n",
              "      <td>[http://swapi.dev/api/films/1/, http://swapi.d...</td>\n",
              "      <td>[]</td>\n",
              "      <td>[http://swapi.dev/api/vehicles/14/, http://swa...</td>\n",
              "      <td>[http://swapi.dev/api/starships/12/, http://sw...</td>\n",
              "      <td>2014-12-09T13:50:51.644000Z</td>\n",
              "      <td>2014-12-20T21:17:56.891000Z</td>\n",
              "      <td>http://swapi.dev/api/people/1/</td>\n",
              "    </tr>\n",
              "    <tr>\n",
              "      <th>1</th>\n",
              "      <td>C-3PO</td>\n",
              "      <td>167</td>\n",
              "      <td>75</td>\n",
              "      <td>n/a</td>\n",
              "      <td>gold</td>\n",
              "      <td>yellow</td>\n",
              "      <td>112BBY</td>\n",
              "      <td>n/a</td>\n",
              "      <td>http://swapi.dev/api/planets/1/</td>\n",
              "      <td>[http://swapi.dev/api/films/1/, http://swapi.d...</td>\n",
              "      <td>[http://swapi.dev/api/species/2/]</td>\n",
              "      <td>[]</td>\n",
              "      <td>[]</td>\n",
              "      <td>2014-12-10T15:10:51.357000Z</td>\n",
              "      <td>2014-12-20T21:17:50.309000Z</td>\n",
              "      <td>http://swapi.dev/api/people/2/</td>\n",
              "    </tr>\n",
              "    <tr>\n",
              "      <th>2</th>\n",
              "      <td>R2-D2</td>\n",
              "      <td>96</td>\n",
              "      <td>32</td>\n",
              "      <td>n/a</td>\n",
              "      <td>white, blue</td>\n",
              "      <td>red</td>\n",
              "      <td>33BBY</td>\n",
              "      <td>n/a</td>\n",
              "      <td>http://swapi.dev/api/planets/8/</td>\n",
              "      <td>[http://swapi.dev/api/films/1/, http://swapi.d...</td>\n",
              "      <td>[http://swapi.dev/api/species/2/]</td>\n",
              "      <td>[]</td>\n",
              "      <td>[]</td>\n",
              "      <td>2014-12-10T15:11:50.376000Z</td>\n",
              "      <td>2014-12-20T21:17:50.311000Z</td>\n",
              "      <td>http://swapi.dev/api/people/3/</td>\n",
              "    </tr>\n",
              "    <tr>\n",
              "      <th>3</th>\n",
              "      <td>Darth Vader</td>\n",
              "      <td>202</td>\n",
              "      <td>136</td>\n",
              "      <td>none</td>\n",
              "      <td>white</td>\n",
              "      <td>yellow</td>\n",
              "      <td>41.9BBY</td>\n",
              "      <td>male</td>\n",
              "      <td>http://swapi.dev/api/planets/1/</td>\n",
              "      <td>[http://swapi.dev/api/films/1/, http://swapi.d...</td>\n",
              "      <td>[]</td>\n",
              "      <td>[]</td>\n",
              "      <td>[http://swapi.dev/api/starships/13/]</td>\n",
              "      <td>2014-12-10T15:18:20.704000Z</td>\n",
              "      <td>2014-12-20T21:17:50.313000Z</td>\n",
              "      <td>http://swapi.dev/api/people/4/</td>\n",
              "    </tr>\n",
              "    <tr>\n",
              "      <th>4</th>\n",
              "      <td>Leia Organa</td>\n",
              "      <td>150</td>\n",
              "      <td>49</td>\n",
              "      <td>brown</td>\n",
              "      <td>light</td>\n",
              "      <td>brown</td>\n",
              "      <td>19BBY</td>\n",
              "      <td>female</td>\n",
              "      <td>http://swapi.dev/api/planets/2/</td>\n",
              "      <td>[http://swapi.dev/api/films/1/, http://swapi.d...</td>\n",
              "      <td>[]</td>\n",
              "      <td>[http://swapi.dev/api/vehicles/30/]</td>\n",
              "      <td>[]</td>\n",
              "      <td>2014-12-10T15:20:09.791000Z</td>\n",
              "      <td>2014-12-20T21:17:50.315000Z</td>\n",
              "      <td>http://swapi.dev/api/people/5/</td>\n",
              "    </tr>\n",
              "  </tbody>\n",
              "</table>\n",
              "</div>"
            ],
            "text/plain": [
              "             name  ...                             url\n",
              "0  Luke Skywalker  ...  http://swapi.dev/api/people/1/\n",
              "1           C-3PO  ...  http://swapi.dev/api/people/2/\n",
              "2           R2-D2  ...  http://swapi.dev/api/people/3/\n",
              "3     Darth Vader  ...  http://swapi.dev/api/people/4/\n",
              "4     Leia Organa  ...  http://swapi.dev/api/people/5/\n",
              "\n",
              "[5 rows x 16 columns]"
            ]
          },
          "metadata": {
            "tags": []
          },
          "execution_count": 73
        }
      ]
    },
    {
      "cell_type": "code",
      "metadata": {
        "id": "sEw8Pyosnbpd",
        "outputId": "a0601e76-278b-4a4f-c619-d113c8cdd0b5",
        "colab": {
          "base_uri": "https://localhost:8080/",
          "height": 34
        }
      },
      "source": [
        "df.shape"
      ],
      "execution_count": 74,
      "outputs": [
        {
          "output_type": "execute_result",
          "data": {
            "text/plain": [
              "(82, 16)"
            ]
          },
          "metadata": {
            "tags": []
          },
          "execution_count": 74
        }
      ]
    },
    {
      "cell_type": "code",
      "metadata": {
        "id": "0NXM4TKDn1BB",
        "outputId": "4eae84b2-d3f6-4b5b-c870-4831f9d83c01",
        "colab": {
          "base_uri": "https://localhost:8080/",
          "height": 117
        }
      },
      "source": [
        "#find the oldest person\n",
        "birth = df[\"birth_year\"]\n",
        "import numpy as np\n",
        "birth = birth.str.replace('BBY','').replace('unknown',0).astype('float')\n",
        "df[\"age\"] = birth\n",
        "df.sort_values(by=['age'], ascending=False).head(1)"
      ],
      "execution_count": 47,
      "outputs": [
        {
          "output_type": "execute_result",
          "data": {
            "text/html": [
              "<div>\n",
              "<style scoped>\n",
              "    .dataframe tbody tr th:only-of-type {\n",
              "        vertical-align: middle;\n",
              "    }\n",
              "\n",
              "    .dataframe tbody tr th {\n",
              "        vertical-align: top;\n",
              "    }\n",
              "\n",
              "    .dataframe thead th {\n",
              "        text-align: right;\n",
              "    }\n",
              "</style>\n",
              "<table border=\"1\" class=\"dataframe\">\n",
              "  <thead>\n",
              "    <tr style=\"text-align: right;\">\n",
              "      <th></th>\n",
              "      <th>name</th>\n",
              "      <th>height</th>\n",
              "      <th>mass</th>\n",
              "      <th>hair_color</th>\n",
              "      <th>skin_color</th>\n",
              "      <th>eye_color</th>\n",
              "      <th>birth_year</th>\n",
              "      <th>gender</th>\n",
              "      <th>homeworld</th>\n",
              "      <th>films</th>\n",
              "      <th>species</th>\n",
              "      <th>vehicles</th>\n",
              "      <th>starships</th>\n",
              "      <th>created</th>\n",
              "      <th>edited</th>\n",
              "      <th>url</th>\n",
              "      <th>age</th>\n",
              "    </tr>\n",
              "  </thead>\n",
              "  <tbody>\n",
              "    <tr>\n",
              "      <th>18</th>\n",
              "      <td>Yoda</td>\n",
              "      <td>66</td>\n",
              "      <td>17</td>\n",
              "      <td>white</td>\n",
              "      <td>green</td>\n",
              "      <td>brown</td>\n",
              "      <td>896BBY</td>\n",
              "      <td>male</td>\n",
              "      <td>http://swapi.dev/api/planets/28/</td>\n",
              "      <td>[http://swapi.dev/api/films/2/, http://swapi.d...</td>\n",
              "      <td>[http://swapi.dev/api/species/6/]</td>\n",
              "      <td>[]</td>\n",
              "      <td>[]</td>\n",
              "      <td>2014-12-15T12:26:01.042000Z</td>\n",
              "      <td>2014-12-20T21:17:50.345000Z</td>\n",
              "      <td>http://swapi.dev/api/people/20/</td>\n",
              "      <td>896.0</td>\n",
              "    </tr>\n",
              "  </tbody>\n",
              "</table>\n",
              "</div>"
            ],
            "text/plain": [
              "    name height  ...                              url    age\n",
              "18  Yoda     66  ...  http://swapi.dev/api/people/20/  896.0\n",
              "\n",
              "[1 rows x 17 columns]"
            ]
          },
          "metadata": {
            "tags": []
          },
          "execution_count": 47
        }
      ]
    },
    {
      "cell_type": "code",
      "metadata": {
        "id": "73V-0AdWqrKj",
        "outputId": "c4eec16c-62d0-45b2-8557-0bee5680b1be",
        "colab": {
          "base_uri": "https://localhost:8080/",
          "height": 102
        }
      },
      "source": [
        "#list of films Yoda appeared in\n",
        "films = [x for x in df.sort_values(by=['age'], ascending=False).head(1)[\"films\"]][0]\n",
        "film_names = [requests.get(i).json()['title'] for i in films]\n",
        "film_names"
      ],
      "execution_count": 44,
      "outputs": [
        {
          "output_type": "execute_result",
          "data": {
            "text/plain": [
              "['The Empire Strikes Back',\n",
              " 'Return of the Jedi',\n",
              " 'The Phantom Menace',\n",
              " 'Attack of the Clones',\n",
              " 'Revenge of the Sith']"
            ]
          },
          "metadata": {
            "tags": []
          },
          "execution_count": 44
        }
      ]
    }
  ]
}